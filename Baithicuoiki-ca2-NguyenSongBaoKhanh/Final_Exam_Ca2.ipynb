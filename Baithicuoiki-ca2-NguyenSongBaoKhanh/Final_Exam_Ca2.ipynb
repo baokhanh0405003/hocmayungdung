{
  "cells": [
    {
      "cell_type": "code",
      "execution_count": null,
      "metadata": {
        "id": "z0cLwSR5bMfH"
      },
      "outputs": [],
      "source": [
        "Nguyễn Song Bảo Khanh\n",
        "2174802010343"
      ]
    },
    {
      "cell_type": "markdown",
      "metadata": {
        "id": "rcp086acQGv-"
      },
      "source": [
        "# FINAL EXAMINATION\n",
        "- Các bạn có thời gian làm bài là 2.5h (Từ 9h35 - 12h00)\n",
        "- Chỉ được sử dụng tài liệu có sẵn và không được sử dụng những tài liệu tham khảo là AI(ChatGPT, Gemini,...)\n",
        "- Cố gắng làm hết khả năng của mình nha :)"
      ]
    },
    {
      "cell_type": "code",
      "execution_count": null,
      "metadata": {
        "id": "bm2mGmMbbIVv"
      },
      "outputs": [],
      "source": []
    },
    {
      "cell_type": "markdown",
      "metadata": {
        "id": "BO4JOBzEQGwA"
      },
      "source": [
        "## Câu 1: 3 Điểm\n",
        "\n",
        "Tạo một tập dữ liệu với các ví dụ $\\mathbf{x}^{i} \\in \\mathbb{R}^2$ and $y^{i} \\in \\{ 0, 1 \\}$.\n",
        "\n",
        "Lớp 0 nên đến từ một phân phối Gaussian 2D với trung bình $\\begin{bmatrix} 10 \\\\ 5 \\end{bmatrix}$ và hiệp phương sai  $\\begin{bmatrix} 2 & 0 \\\\ 0 & 2 \\end{bmatrix}$.\n",
        "\n",
        "Lớp 1 nên đến từ một phân phối Gaussian 2D với trung bình  $\\begin{bmatrix} 5 \\\\ 10 \\end{bmatrix}$ và hiệp phương sai  $\\begin{bmatrix} 2 & 0 \\\\ 0 & 2 \\end{bmatrix}$."
      ]
    },
    {
      "cell_type": "code",
      "execution_count": 5,
      "metadata": {
        "id": "CuLBeE7zQGwA"
      },
      "outputs": [],
      "source": [
        "#Khởi tạo data\n",
        "import numpy as np\n",
        "X0 = np.random.multivariate_normal([10, 5], [[2, 0], [0, 2]], 100)\n",
        "X1 = np.random.multivariate_normal([5, 10], [[2, 0], [0, 2]], 100)\n",
        "X = np.concatenate((X0, X1), 0)\n",
        "y = np.concatenate((np.zeros((100)), np.ones((100))))"
      ]
    },
    {
      "cell_type": "markdown",
      "metadata": {
        "id": "UpO8Dz65QGwB"
      },
      "source": [
        "Chia tập dữ liệu với tập train (80%) và test (20%)."
      ]
    },
    {
      "cell_type": "code",
      "execution_count": 15,
      "metadata": {
        "colab": {
          "base_uri": "https://localhost:8080/",
          "height": 222
        },
        "id": "Qfyc7WwRQGwB",
        "outputId": "cfe9b97b-b696-4be5-b079-9f1b7816ace1"
      },
      "outputs": [
        {
          "ename": "IndexError",
          "evalue": "index 182 is out of bounds for axis 0 with size 6",
          "output_type": "error",
          "traceback": [
            "\u001b[0;31m---------------------------------------------------------------------------\u001b[0m",
            "\u001b[0;31mIndexError\u001b[0m                                Traceback (most recent call last)",
            "\u001b[0;32m<ipython-input-15-56100714e0c0>\u001b[0m in \u001b[0;36m<cell line: 4>\u001b[0;34m()\u001b[0m\n\u001b[1;32m      2\u001b[0m \u001b[0mtrain_index\u001b[0m \u001b[0;34m=\u001b[0m \u001b[0mindex\u001b[0m\u001b[0;34m[\u001b[0m\u001b[0;34m:\u001b[0m\u001b[0;36m160\u001b[0m\u001b[0;34m]\u001b[0m \u001b[0;31m#code here\u001b[0m\u001b[0;34m\u001b[0m\u001b[0;34m\u001b[0m\u001b[0m\n\u001b[1;32m      3\u001b[0m \u001b[0mval_index\u001b[0m \u001b[0;34m=\u001b[0m \u001b[0mindex\u001b[0m\u001b[0;34m[\u001b[0m\u001b[0;36m160\u001b[0m\u001b[0;34m:\u001b[0m\u001b[0;34m]\u001b[0m\u001b[0;31m#code here\u001b[0m\u001b[0;34m\u001b[0m\u001b[0;34m\u001b[0m\u001b[0m\n\u001b[0;32m----> 4\u001b[0;31m \u001b[0mX_train\u001b[0m \u001b[0;34m=\u001b[0m \u001b[0mX\u001b[0m\u001b[0;34m[\u001b[0m\u001b[0mtrain_index\u001b[0m\u001b[0;34m]\u001b[0m \u001b[0;31m#code here\u001b[0m\u001b[0;34m\u001b[0m\u001b[0;34m\u001b[0m\u001b[0m\n\u001b[0m\u001b[1;32m      5\u001b[0m \u001b[0mX_val\u001b[0m \u001b[0;34m=\u001b[0m \u001b[0mX\u001b[0m\u001b[0;34m[\u001b[0m\u001b[0mval_index\u001b[0m\u001b[0;34m]\u001b[0m \u001b[0;31m#code here\u001b[0m\u001b[0;34m\u001b[0m\u001b[0;34m\u001b[0m\u001b[0m\n\u001b[1;32m      6\u001b[0m \u001b[0my_train\u001b[0m \u001b[0;34m=\u001b[0m \u001b[0my\u001b[0m\u001b[0;34m[\u001b[0m\u001b[0mtrain_index\u001b[0m\u001b[0;34m]\u001b[0m \u001b[0;31m#code here\u001b[0m\u001b[0;34m\u001b[0m\u001b[0;34m\u001b[0m\u001b[0m\n",
            "\u001b[0;31mIndexError\u001b[0m: index 182 is out of bounds for axis 0 with size 6"
          ]
        }
      ],
      "source": [
        "index = np.random.permutation(200) #code Here     random.permutation ----200\n",
        "train_index = index[:160] #code here\n",
        "val_index = index[160:]#code here\n",
        "X_train = X[train_index] #code here\n",
        "X_val = X[val_index] #code here\n",
        "y_train = y[train_index] #code here\n",
        "y_val = y[val_index] #code here"
      ]
    },
    {
      "cell_type": "markdown",
      "metadata": {
        "id": "yP-uF2xbQGwB"
      },
      "source": [
        "Hiển thị biểu đồ phân tán với lớp 0 và lớp 1 được hiển thị bằng các màu khác nhau"
      ]
    },
    {
      "cell_type": "code",
      "execution_count": 14,
      "metadata": {
        "colab": {
          "base_uri": "https://localhost:8080/",
          "height": 430
        },
        "id": "zbTxv5f1QGwB",
        "outputId": "378f1467-be24-4fe6-c794-2a53e2b53e09"
      },
      "outputs": [
        {
          "data": {
            "image/png": "[encoded data removed]",
            "text/plain": [
              "<Figure size 640x480 with 1 Axes>"
            ]
          },
          "metadata": {},
          "output_type": "display_data"
        }
      ],
      "source": [
        "#code here\n",
        "#Hiển thị biểu đồ phân tán với lớp 0 và lớp 1 được hiển thị bằng các màu khác nhau\n",
        "from sklearn.datasets import make_blobs\n",
        "\n",
        "n_samples = 300\n",
        "samples, labels = make_blobs(n_samples=n_samples,\n",
        "                             centers=([2, 6], [6, 2]),\n",
        "                             random_state=0)\n",
        "\n",
        "import matplotlib.pyplot as plt\n",
        "\n",
        "\n",
        "colours = ('green', 'red', 'blue', 'magenta', 'yellow', 'cyan')\n",
        "fig, ax = plt.subplots()\n",
        "for n_class in range(2):\n",
        "    ax.scatter(samples[labels==n_class][:, 0], samples[labels==n_class][:, 1],\n",
        "               c=colours[n_class], s=40, label=str(n_class))\n",
        "\n",
        "size_of_learn_sample = int(n_samples * 0.8)\n",
        "learn_data = samples[:size_of_learn_sample]\n",
        "test_data = samples[-size_of_learn_sample:]"
      ]
    },
    {
      "cell_type": "markdown",
      "metadata": {
        "id": "ROir8bBBQGwC"
      },
      "source": [
        "Kết quả sẽ ra thế này:\n",
        "\n",
        "![image.png](attachment:image.png)"
      ]
    },
    {
      "cell_type": "markdown",
      "metadata": {
        "id": "kPeijfcBQGwC"
      },
      "source": [
        "# Câu 2: 2 Điểm"
      ]
    },
    {
      "cell_type": "code",
      "execution_count": 10,
      "metadata": {
        "colab": {
          "base_uri": "https://localhost:8080/"
        },
        "id": "Tgu44b13QGwC",
        "outputId": "5f374887-2eb9-4d7f-8b47-96912743b6ec"
      },
      "outputs": [
        {
          "name": "stdout",
          "output_type": "stream",
          "text": [
            "Độ chính xác của mô hình: 100.00%\n"
          ]
        }
      ],
      "source": [
        "import numpy as np\n",
        "from sklearn.ensemble import RandomForestClassifier\n",
        "from sklearn.model_selection import train_test_split\n",
        "from sklearn.metrics import accuracy_score\n",
        "from sklearn.preprocessing import StandardScaler\n",
        "\n",
        "X = np.array([[1, 2], [2, 3], [3, 3], [6, 5], [7, 8], [8, 9]])\n",
        "y = np.array([0, 0, 0, 1, 1, 1])\n",
        "X_train, X_test, y_train, y_test = train_test_split(X, y, test_size=0.2, random_state=42)\n",
        "\n",
        "# Chuẩn hóa dữ liệu\n",
        "scaler = StandardScaler()\n",
        "X_train = scaler.fit_transform(X_train)\n",
        "X_test = scaler.transform(X_test)\n",
        "\n",
        "# Tạo mô hình\n",
        "model = RandomForestClassifier(n_estimators=100, max_depth=3, min_samples_split=2, random_state=42)\n",
        "\n",
        "# Huấn luyện mô hình\n",
        "model.fit(X_train, y_train)\n",
        "\n",
        "# Dự đoán\n",
        "y_pred = model.predict(X_test)\n",
        "\n",
        "\n",
        "# Đánh giá mô hình\n",
        "accuracy = accuracy_score(y_test, y_pred)\n",
        "print(f\"Độ chính xác của mô hình: {accuracy * 100:.2f}%\")\n"
      ]
    },
    {
      "cell_type": "markdown",
      "metadata": {
        "id": "zwKZsyWzQGwC"
      },
      "source": [
        "### Đoạn code trên đúng hay sai hay bất thường? Nếu sai hoặc bất thường thì sửa lại như thế nào cho đúng ?"
      ]
    },
    {
      "cell_type": "code",
      "execution_count": null,
      "metadata": {
        "id": "7bwvRLMEQGwC"
      },
      "outputs": [],
      "source": [
        "sai"
      ]
    },
    {
      "cell_type": "markdown",
      "metadata": {
        "id": "agx3_y7lQGwD"
      },
      "source": [
        "# Câu 3: 5 Điểm\n",
        "\n",
        "Điền vào chỗ trống để mô hình MLP bên dưới có thể run chính xác"
      ]
    },
    {
      "cell_type": "code",
      "execution_count": 23,
      "metadata": {
        "colab": {
          "base_uri": "https://localhost:8080/",
          "height": 652
        },
        "id": "08JMa7mHQGwD",
        "outputId": "8c4835bf-d0e4-405a-f6c2-6320e440f142"
      },
      "outputs": [
        {
          "name": "stdout",
          "output_type": "stream",
          "text": [
            "Epoch 0, Loss: 0.0000\n",
            "Epoch 100, Loss: 0.0000\n",
            "Epoch 200, Loss: 0.0000\n",
            "Epoch 300, Loss: 0.0000\n",
            "Epoch 400, Loss: 0.0000\n",
            "Epoch 500, Loss: 0.0000\n",
            "Epoch 600, Loss: 0.0000\n",
            "Epoch 700, Loss: 0.0000\n",
            "Epoch 800, Loss: 0.0000\n",
            "Epoch 900, Loss: 0.0000\n",
            "Accuracy on test set: 1.0000\n"
          ]
        },
        {
          "data": {
            "image/png": "[encoded data removed]",
            "text/plain": [
              "<Figure size 640x480 with 1 Axes>"
            ]
          },
          "metadata": {},
          "output_type": "display_data"
        }
      ],
      "source": [
        "import torch\n",
        "import numpy as np\n",
        "import matplotlib.pyplot as plt\n",
        "from sklearn.datasets import make_moons\n",
        "from sklearn.model_selection import train_test_split\n",
        "from sklearn.preprocessing import OneHotEncoder\n",
        "\n",
        "# Tạo dữ liệu mẫu\n",
        "X, y = make_moons(n_samples=500, noise=0.2, random_state=42)\n",
        "y = y.reshape(-1, 1)  # Chuyển y thành vector cột\n",
        "\n",
        "# One-hot encode nhãn\n",
        "encoder = OneHotEncoder(sparse_output=False)\n",
        "y_onehot = encoder.fit_transform(y) #code here\n",
        "\n",
        "# Chia dữ liệu thành tập train/test với train =80%\n",
        "X_train, X_test, y_train, y_test = train_test_split(X, y, test_size=0.2, random_state=42) #code here\n",
        "\n",
        "# Chuyển dữ liệu sang tensor (Float32)\n",
        "X_train = torch.tensor(X_train, dtype=torch.float32)\n",
        "y_train = torch.tensor(y_train, dtype=torch.float32)\n",
        "X_test = torch.tensor(X_test, dtype=torch.float32)\n",
        "y_test = torch.tensor(y_test, dtype=torch.float32)\n",
        "\n",
        "# Hyperparameters\n",
        "input_size = X_train.shape[1] #code here\n",
        "hidden_size = 16\n",
        "output_size = y_train.shape[1] #code here\n",
        "learning_rate = 0.01\n",
        "epochs = 1000\n",
        "\n",
        "# Khởi tạo trọng số và bias\n",
        "W1 = torch.randn(input_size, hidden_size, dtype=torch.float32) * 0.01\n",
        "b1 = torch.zeros(hidden_size, dtype=torch.float32)\n",
        "W2 = torch.randn(hidden_size, output_size, dtype=torch.float32) * 0.01\n",
        "b2 = torch.zeros(output_size, dtype=torch.float32)\n",
        "\n",
        "# Hàm kích hoạt\n",
        "def relu(x):\n",
        "    return torch.max(torch.tensor(0.0), x)#code here\n",
        "\n",
        "def relu_derivative(x):\n",
        "    return torch.where(x > 0, torch.tensor(1.0), torch.tensor(0.0))#code here\n",
        "\n",
        "def softmax(x):\n",
        "    #code here\n",
        "    exp_x = torch.exp(x - torch.max(x, dim=1, keepdim=True)[0])\n",
        "    return exp_x / exp_x.sum(dim=1, keepdim=True)\n",
        "\n",
        "# Hàm mất mát (Cross-Entropy)\n",
        "def cross_entropy_loss(y_pred, y_true):\n",
        "    return torch.mean(-torch.sum(y_true * torch.log(y_pred), dim=1))#code here\n",
        "\n",
        "# Huấn luyện\n",
        "losses = []\n",
        "for epoch in range(epochs):\n",
        "    # Forward pass\n",
        "    z1 = X_train @ W1 + b1\n",
        "    a1 = relu(z1)\n",
        "    z2 = a1 @ W2 + b2\n",
        "    y_pred = softmax(z2)\n",
        "\n",
        "    # Tính loss\n",
        "    loss = cross_entropy_loss(y_pred, y_train)\n",
        "    losses.append(loss.item())\n",
        "\n",
        "    # Backward pass\n",
        "    dz2 = y_pred - y_train\n",
        "    dW2 = a1.T @ dz2 / X_train.shape[0]\n",
        "    db2 = dz2.mean(dim=0)\n",
        "\n",
        "    da1 = dz2 @ W2.T\n",
        "    dz1 = da1 * relu_derivative(z1)\n",
        "    dW1 = X_train.T @ dz1 / X_train.shape[0]\n",
        "    db1 = dz1.mean(dim=0)\n",
        "\n",
        "    # Cập nhật trọng số\n",
        "    W1 -= learning_rate * dW1 #code here\n",
        "    b1 -= learning_rate * db1 #code here\n",
        "    W2 -= learning_rate * dW2 #code here\n",
        "    b2 -= learning_rate * db2 #code here\n",
        "\n",
        "    # In loss mỗi 100 epochs\n",
        "    if epoch % 100 == 0:\n",
        "        #code here\n",
        "        print(f\"Epoch {epoch}, Loss: {loss.item():.4f}\")\n",
        "\n",
        "# Đánh giá trên tập test\n",
        "with torch.no_grad():\n",
        "    z1 = X_test @ W1 + b1\n",
        "    a1 = relu(z1)\n",
        "    z2 = a1 @ W2 + b2\n",
        "    y_test_pred = softmax(z2)\n",
        "    y_test_pred_class = torch.argmax(y_test_pred, axis=1)\n",
        "    y_test_true_class = torch.argmax(y_test, axis=1)\n",
        "    accuracy = (y_test_pred_class == y_test_true_class).float().mean()\n",
        "    print(f\"Accuracy on test set: {accuracy.item():.4f}\")\n",
        "\n",
        "#Vẽ biểu đồ loss\n",
        "#code here\n",
        "plt.plot(range(epochs), losses)\n",
        "plt.xlabel(\"Epoch\")\n",
        "plt.ylabel(\"Loss\")\n",
        "plt.show()"
      ]
    },
    {
      "cell_type": "markdown",
      "metadata": {
        "id": "1I70agkUQGwD"
      },
      "source": [
        "Kết quả tham khảo:\n",
        "\n",
        "Epoch 0, Loss: 0.6930\n",
        "\n",
        "Epoch 100, Loss: 0.6924\n",
        "\n",
        "Epoch 200, Loss: 0.6919\n",
        "\n",
        "Epoch 300, Loss: 0.6911\n",
        "\n",
        "Epoch 400, Loss: 0.6897\n",
        "\n",
        "Epoch 500, Loss: 0.6870\n",
        "\n",
        "Epoch 600, Loss: 0.6821\n",
        "\n",
        "Epoch 700, Loss: 0.6731\n",
        "\n",
        "Epoch 800, Loss: 0.6573\n",
        "\n",
        "Epoch 900, Loss: 0.6314\n",
        "\n",
        "Accuracy on test set: 0.8400\n",
        "\n",
        "![image.png](attachment:image.png)"
      ]
    },
    {
      "cell_type": "code",
      "execution_count": 25,
      "metadata": {
        "colab": {
          "base_uri": "https://localhost:8080/",
          "height": 338
        },
        "id": "oldp-84pQGwD",
        "outputId": "f011706f-8b99-4704-d33c-fc4545e95687"
      },
      "outputs": [
        {
          "ename": "TypeError",
          "evalue": "list indices must be integers or slices, not str",
          "output_type": "error",
          "traceback": [
            "\u001b[0;31m---------------------------------------------------------------------------\u001b[0m",
            "\u001b[0;31mTypeError\u001b[0m                                 Traceback (most recent call last)",
            "\u001b[0;32m<ipython-input-25-974f1f9697a3>\u001b[0m in \u001b[0;36m<cell line: 29>\u001b[0;34m()\u001b[0m\n\u001b[1;32m     27\u001b[0m     \u001b[0mplt\u001b[0m\u001b[0;34m.\u001b[0m\u001b[0mtitle\u001b[0m\u001b[0;34m(\u001b[0m\u001b[0;34m\"Decision Boundary\"\u001b[0m\u001b[0;34m)\u001b[0m\u001b[0;34m\u001b[0m\u001b[0;34m\u001b[0m\u001b[0m\n\u001b[1;32m     28\u001b[0m     \u001b[0mplt\u001b[0m\u001b[0;34m.\u001b[0m\u001b[0mshow\u001b[0m\u001b[0;34m(\u001b[0m\u001b[0;34m)\u001b[0m\u001b[0;34m\u001b[0m\u001b[0;34m\u001b[0m\u001b[0m\n\u001b[0;32m---> 29\u001b[0;31m \u001b[0mplot_decision_boundary\u001b[0m\u001b[0;34m(\u001b[0m\u001b[0mX\u001b[0m\u001b[0;34m,\u001b[0m \u001b[0my\u001b[0m\u001b[0;34m,\u001b[0m \u001b[0mmodel\u001b[0m\u001b[0;34m)\u001b[0m\u001b[0;34m\u001b[0m\u001b[0;34m\u001b[0m\u001b[0m\n\u001b[0m",
            "\u001b[0;32m<ipython-input-25-974f1f9697a3>\u001b[0m in \u001b[0;36mplot_decision_boundary\u001b[0;34m(X, y, model)\u001b[0m\n\u001b[1;32m     13\u001b[0m     \u001b[0mgrid_tensor\u001b[0m \u001b[0;34m=\u001b[0m \u001b[0mtorch\u001b[0m\u001b[0;34m.\u001b[0m\u001b[0mtensor\u001b[0m\u001b[0;34m(\u001b[0m\u001b[0mgrid\u001b[0m\u001b[0;34m,\u001b[0m \u001b[0mdtype\u001b[0m\u001b[0;34m=\u001b[0m\u001b[0mtorch\u001b[0m\u001b[0;34m.\u001b[0m\u001b[0mfloat32\u001b[0m\u001b[0;34m)\u001b[0m\u001b[0;34m\u001b[0m\u001b[0;34m\u001b[0m\u001b[0m\n\u001b[1;32m     14\u001b[0m     \u001b[0;32mwith\u001b[0m \u001b[0mtorch\u001b[0m\u001b[0;34m.\u001b[0m\u001b[0mno_grad\u001b[0m\u001b[0;34m(\u001b[0m\u001b[0;34m)\u001b[0m\u001b[0;34m:\u001b[0m\u001b[0;34m\u001b[0m\u001b[0;34m\u001b[0m\u001b[0m\n\u001b[0;32m---> 15\u001b[0;31m         \u001b[0mz1\u001b[0m \u001b[0;34m=\u001b[0m \u001b[0mgrid_tensor\u001b[0m \u001b[0;34m@\u001b[0m \u001b[0mmodel\u001b[0m\u001b[0;34m[\u001b[0m\u001b[0;34m\"W1\"\u001b[0m\u001b[0;34m]\u001b[0m \u001b[0;34m+\u001b[0m \u001b[0mmodel\u001b[0m\u001b[0;34m[\u001b[0m\u001b[0;34m\"b1\"\u001b[0m\u001b[0;34m]\u001b[0m\u001b[0;34m\u001b[0m\u001b[0;34m\u001b[0m\u001b[0m\n\u001b[0m\u001b[1;32m     16\u001b[0m         \u001b[0ma1\u001b[0m \u001b[0;34m=\u001b[0m \u001b[0mrelu\u001b[0m\u001b[0;34m(\u001b[0m\u001b[0mz1\u001b[0m\u001b[0;34m)\u001b[0m\u001b[0;34m\u001b[0m\u001b[0;34m\u001b[0m\u001b[0m\n\u001b[1;32m     17\u001b[0m         \u001b[0mz2\u001b[0m \u001b[0;34m=\u001b[0m \u001b[0ma1\u001b[0m \u001b[0;34m@\u001b[0m \u001b[0mmodel\u001b[0m\u001b[0;34m[\u001b[0m\u001b[0;34m\"W2\"\u001b[0m\u001b[0;34m]\u001b[0m \u001b[0;34m+\u001b[0m \u001b[0mmodel\u001b[0m\u001b[0;34m[\u001b[0m\u001b[0;34m\"b2\"\u001b[0m\u001b[0;34m]\u001b[0m\u001b[0;34m\u001b[0m\u001b[0;34m\u001b[0m\u001b[0m\n",
            "\u001b[0;32m/usr/local/lib/python3.10/dist-packages/sklearn/ensemble/_base.py\u001b[0m in \u001b[0;36m__getitem__\u001b[0;34m(self, index)\u001b[0m\n\u001b[1;32m    160\u001b[0m     \u001b[0;32mdef\u001b[0m \u001b[0m__getitem__\u001b[0m\u001b[0;34m(\u001b[0m\u001b[0mself\u001b[0m\u001b[0;34m,\u001b[0m \u001b[0mindex\u001b[0m\u001b[0;34m)\u001b[0m\u001b[0;34m:\u001b[0m\u001b[0;34m\u001b[0m\u001b[0;34m\u001b[0m\u001b[0m\n\u001b[1;32m    161\u001b[0m         \u001b[0;34m\"\"\"Return the index'th estimator in the ensemble.\"\"\"\u001b[0m\u001b[0;34m\u001b[0m\u001b[0;34m\u001b[0m\u001b[0m\n\u001b[0;32m--> 162\u001b[0;31m         \u001b[0;32mreturn\u001b[0m \u001b[0mself\u001b[0m\u001b[0;34m.\u001b[0m\u001b[0mestimators_\u001b[0m\u001b[0;34m[\u001b[0m\u001b[0mindex\u001b[0m\u001b[0;34m]\u001b[0m\u001b[0;34m\u001b[0m\u001b[0;34m\u001b[0m\u001b[0m\n\u001b[0m\u001b[1;32m    163\u001b[0m \u001b[0;34m\u001b[0m\u001b[0m\n\u001b[1;32m    164\u001b[0m     \u001b[0;32mdef\u001b[0m \u001b[0m__iter__\u001b[0m\u001b[0;34m(\u001b[0m\u001b[0mself\u001b[0m\u001b[0;34m)\u001b[0m\u001b[0;34m:\u001b[0m\u001b[0;34m\u001b[0m\u001b[0;34m\u001b[0m\u001b[0m\n",
            "\u001b[0;31mTypeError\u001b[0m: list indices must be integers or slices, not str"
          ]
        }
      ],
      "source": [
        "##--------------Phần này không cần code, chỉ run cho giống đáp án dưới\n",
        "def plot_decision_boundary(X, y, model):\n",
        "    # Đảm bảo X và y ở dạng NumPy array\n",
        "    X = X.numpy() if isinstance(X, torch.Tensor) else X\n",
        "    y = y.numpy().flatten() if isinstance(y, torch.Tensor) else y.flatten()\n",
        "    # Tạo lưới điểm để vẽ\n",
        "    x_min, x_max = X[:, 0].min() - 0.5, X[:, 0].max() + 0.5\n",
        "    y_min, y_max = X[:, 1].min() - 0.5, X[:, 1].max() + 0.5\n",
        "    xx, yy = np.meshgrid(\n",
        "        np.arange(x_min, x_max, 0.01), np.arange(y_min, y_max, 0.01)\n",
        "    )\n",
        "    grid = np.c_[xx.ravel(), yy.ravel()]\n",
        "    grid_tensor = torch.tensor(grid, dtype=torch.float32)\n",
        "    with torch.no_grad():\n",
        "        z1 = grid_tensor @ model[\"W1\"] + model[\"b1\"]\n",
        "        a1 = relu(z1)\n",
        "        z2 = a1 @ model[\"W2\"] + model[\"b2\"]\n",
        "        preds = torch.argmax(softmax(z2), axis=1).numpy()\n",
        "\n",
        "    # Chuyển về định dạng lưới\n",
        "    preds = preds.reshape(xx.shape)\n",
        "    # Vẽ ranh giới\n",
        "    plt.contourf(xx, yy, preds, alpha=0.6, cmap=plt.cm.Spectral)\n",
        "    plt.scatter(X[:, 0], X[:, 1], c=y, edgecolor=\"k\", cmap=plt.cm.Spectral)\n",
        "    plt.xlabel(\"Feature 1\")\n",
        "    plt.ylabel(\"Feature 2\")\n",
        "    plt.title(\"Decision Boundary\")\n",
        "    plt.show()\n",
        "plot_decision_boundary(X, y, model)"
      ]
    },
    {
      "cell_type": "markdown",
      "metadata": {
        "id": "5X0jw_yWQGwD"
      },
      "source": [
        "Tham khảo kết quả\n",
        "\n",
        "![image.png](attachment:image.png)"
      ]
    }
  ],
  "metadata": {
    "colab": {
      "provenance": [],
      "toc_visible": true
    },
    "kernelspec": {
      "display_name": "Python 3",
      "language": "python",
      "name": "python3"
    },
    "language_info": {
      "codemirror_mode": {
        "name": "ipython",
        "version": 3
      },
      "file_extension": ".py",
      "mimetype": "text/x-python",
      "name": "python",
      "nbconvert_exporter": "python",
      "pygments_lexer": "ipython3",
      "version": "3.10.8"
    }
  },
  "nbformat": 4,
  "nbformat_minor": 0
}
